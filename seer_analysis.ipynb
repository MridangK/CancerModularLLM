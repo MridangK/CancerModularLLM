{
 "cells": [
  {
   "cell_type": "code",
   "execution_count": 1,
   "metadata": {},
   "outputs": [],
   "source": [
    "import pandas as pd"
   ]
  },
  {
   "cell_type": "code",
   "execution_count": 3,
   "metadata": {},
   "outputs": [],
   "source": [
    "df = pd.read_excel(\"Seer_All.xlsx\")"
   ]
  },
  {
   "cell_type": "code",
   "execution_count": 4,
   "metadata": {},
   "outputs": [
    {
     "data": {
      "text/plain": [
       "Index(['Patient ID', 'Age recode with single ages and 85+',\n",
       "       'Site recode ICD-O-3/WHO 2008', 'CS version input original (2004-2015)',\n",
       "       'RX Summ--Surg Prim Site (1998+)', 'Year of diagnosis',\n",
       "       'ICD-O-3 Hist/behav', 'CS extension (2004-2015)',\n",
       "       'First malignant primary indicator', 'Grade (thru 2017)',\n",
       "       'CS version input current (2004-2015)', 'Primary Site', 'Laterality',\n",
       "       'Survival months', 'Sex', 'Race/ethnicity',\n",
       "       'Median household income inflation adj to 2019'],\n",
       "      dtype='object')"
      ]
     },
     "execution_count": 4,
     "metadata": {},
     "output_type": "execute_result"
    }
   ],
   "source": [
    "df.columns"
   ]
  },
  {
   "cell_type": "code",
   "execution_count": 5,
   "metadata": {},
   "outputs": [],
   "source": [
    "# Specify the columns you want to check for missing values\n",
    "cols_to_check = ['Patient ID', 'Age recode with single ages and 85+',\n",
    "                 'Site recode ICD-O-3/WHO 2008', 'CS version input original (2004-2015)',\n",
    "                 'RX Summ--Surg Prim Site (1998+)', 'Year of diagnosis',\n",
    "                 'ICD-O-3 Hist/behav', 'CS extension (2004-2015)',\n",
    "                 'First malignant primary indicator', 'Grade (thru 2017)',\n",
    "                 'CS version input current (2004-2015)', 'Primary Site', 'Laterality',\n",
    "                 'Survival months', 'Sex', 'Race/ethnicity',\n",
    "                 'Median household income inflation adj to 2019']"
   ]
  },
  {
   "cell_type": "code",
   "execution_count": 6,
   "metadata": {},
   "outputs": [],
   "source": [
    "df_analysis = df.copy()\n"
   ]
  },
  {
   "cell_type": "code",
   "execution_count": 7,
   "metadata": {},
   "outputs": [],
   "source": [
    "df_analysis[cols_to_check] = df[cols_to_check].replace(['blank', 'Blank(s)','Unknown'], pd.NA)"
   ]
  },
  {
   "cell_type": "code",
   "execution_count": 8,
   "metadata": {},
   "outputs": [
    {
     "name": "stdout",
     "output_type": "stream",
     "text": [
      "Missing values in each column:\n",
      "Patient ID                                            0\n",
      "Age recode with single ages and 85+                   0\n",
      "Site recode ICD-O-3/WHO 2008                          0\n",
      "CS version input original (2004-2015)            789489\n",
      "RX Summ--Surg Prim Site (1998+)                  601526\n",
      "Year of diagnosis                                     0\n",
      "ICD-O-3 Hist/behav                                    0\n",
      "CS extension (2004-2015)                         789489\n",
      "First malignant primary indicator                     0\n",
      "Grade (thru 2017)                                463888\n",
      "CS version input current (2004-2015)             789489\n",
      "Primary Site                                          0\n",
      "Laterality                                            0\n",
      "Survival months                                   16449\n",
      "Sex                                                   0\n",
      "Race/ethnicity                                     6828\n",
      "Median household income inflation adj to 2019         0\n",
      "dtype: int64\n"
     ]
    }
   ],
   "source": [
    "# Check for missing values in the specified columns\n",
    "missing_values = df_analysis[cols_to_check].isnull().sum()\n",
    "\n",
    "print(\"Missing values in each column:\")\n",
    "print(missing_values)"
   ]
  },
  {
   "cell_type": "code",
   "execution_count": 9,
   "metadata": {},
   "outputs": [
    {
     "name": "stdout",
     "output_type": "stream",
     "text": [
      "Missing values in each column:\n",
      "Patient ID                                       0\n",
      "Age recode with single ages and 85+              0\n",
      "Site recode ICD-O-3/WHO 2008                     0\n",
      "CS version input original (2004-2015)            0\n",
      "RX Summ--Surg Prim Site (1998+)                  0\n",
      "Year of diagnosis                                0\n",
      "ICD-O-3 Hist/behav                               0\n",
      "CS extension (2004-2015)                         0\n",
      "First malignant primary indicator                0\n",
      "Grade (thru 2017)                                0\n",
      "CS version input current (2004-2015)             0\n",
      "Primary Site                                     0\n",
      "Laterality                                       0\n",
      "Survival months                                  0\n",
      "Sex                                              0\n",
      "Race/ethnicity                                   0\n",
      "Median household income inflation adj to 2019    0\n",
      "dtype: int64\n"
     ]
    }
   ],
   "source": [
    "\n",
    "# Check for missing values in the specified columns\n",
    "missing_values = df[cols_to_check].isnull().sum()\n",
    "\n",
    "print(\"Missing values in each column:\")\n",
    "print(missing_values)"
   ]
  },
  {
   "cell_type": "code",
   "execution_count": 10,
   "metadata": {},
   "outputs": [],
   "source": [
    "df_original = df_analysis.copy()\n",
    "\n",
    "cols_to_check = ['Patient ID', 'Age recode with single ages and 85+',\n",
    "                 'Site recode ICD-O-3/WHO 2008', 'CS version input original (2004-2015)',\n",
    "                 'RX Summ--Surg Prim Site (1998+)', 'Year of diagnosis',\n",
    "                 'ICD-O-3 Hist/behav', 'CS extension (2004-2015)',\n",
    "                 'First malignant primary indicator', 'Grade (thru 2017)',\n",
    "                 'CS version input current (2004-2015)', 'Primary Site', 'Laterality',\n",
    "                 'Survival months', 'Sex', 'Race/ethnicity',\n",
    "                 'Median household income inflation adj to 2019']\n",
    "\n",
    "df_cleaned = df_analysis.dropna(subset=cols_to_check)\n",
    "\n",
    "result = df_cleaned.groupby('Site recode ICD-O-3/WHO 2008').size() / df_original.groupby('Site recode ICD-O-3/WHO 2008').size() * 100\n",
    "\n",
    "result_df = pd.DataFrame({'Percentage Remaining': result})\n",
    "\n",
    "result_df.to_csv('result.txt', sep='\\t')\n",
    "\n"
   ]
  },
  {
   "cell_type": "code",
   "execution_count": 11,
   "metadata": {},
   "outputs": [
    {
     "name": "stdout",
     "output_type": "stream",
     "text": [
      "Data saved to output.txt\n"
     ]
    }
   ],
   "source": [
    "import json\n",
    "\n",
    "list_template_rows = []\n",
    "for index, row in df_cleaned.iterrows():\n",
    "    row_dict = {col: row[col] for col in cols_to_check}\n",
    "    list_template_rows.append(row_dict)\n",
    "\n",
    "json_file = 'output.json'\n",
    "text_file = 'output.txt'\n",
    "\n",
    "with open(json_file, 'w') as f:\n",
    "    json.dump(list_template_rows, f, indent=2)\n",
    "\n",
    "text_template_rows = \"\\n\".join([\", \".join([f\"{col.lower()} is {row[col]}\" for col in cols_to_check]) for index, row in df.iterrows()])\n",
    "\n",
    "with open('output.txt', 'w') as f:\n",
    "    f.write(text_template_rows)\n",
    "\n"
   ]
  },
  {
   "cell_type": "code",
   "execution_count": 12,
   "metadata": {},
   "outputs": [],
   "source": [
    "\n",
    "\n",
    "with open('doctornote.txt', 'w') as file:\n",
    "\n",
    "    for index, row in df_cleaned.iterrows():\n",
    "        patient_id = row['Patient ID']\n",
    "        age = row['Age recode with single ages and 85+']\n",
    "        diagnosis_year = row['Year of diagnosis']\n",
    "        primary_site = row['Primary Site']\n",
    "        surgery_site = row['RX Summ--Surg Prim Site (1998+)']\n",
    "        survival_months = row['Survival months']\n",
    "        sex = row['Sex']\n",
    "        race_ethnicity = row['Race/ethnicity']\n",
    "        income = row['Median household income inflation adj to 2019']\n",
    "\n",
    "        # Create a more sophisticated doctor note\n",
    "        doctor_note = f\"\"\"\n",
    "        **Patient Information:**\n",
    "        - Patient ID: {patient_id}\n",
    "        - Age: {age}\n",
    "        - Sex: {sex}\n",
    "        - Race/Ethnicity: {race_ethnicity}\n",
    "\n",
    "        **Medical History:**\n",
    "        - Diagnosis Year: {diagnosis_year}\n",
    "        - Primary Site: {primary_site}\n",
    "        - Surgery Site: {surgery_site}\n",
    "        - Survival Months: {survival_months}\n",
    "\n",
    "        **Recommendations:**\n",
    "        - The patient has been diagnosed with a primary tumor at the site {primary_site}.\n",
    "        - A surgical procedure ({surgery_site}) was performed, and the patient has survived for {survival_months} months.\n",
    "        - Further tests and follow-ups are recommended to monitor the patient's condition.\n",
    "\n",
    "        **Additional Notes:**\n",
    "        - Income Level: {income}\n",
    "        \n",
    "        \"\"\"\n",
    "\n",
    "        file.write(doctor_note + '\\n\\n')\n"
   ]
  },
  {
   "cell_type": "code",
   "execution_count": 15,
   "metadata": {},
   "outputs": [],
   "source": [
    "import random\n",
    "\n",
    "columns = df_cleaned.columns.tolist()\n",
    "\n",
    "random.shuffle(columns)\n",
    "\n",
    "# Iterate over each row\n",
    "for index, row in df_cleaned.iterrows():\n",
    "    # Create a template with randomly ordered columns and values for each row\n",
    "    template_permuted = '- ' + '\\n- '.join(f'{column}: {row[column]}' for column in columns)\n",
    "\n",
    "    # Save the permuted template to a file (if needed)\n",
    "    with open('permuted_template.txt', 'a') as file:\n",
    "        file.write(template_permuted + '\\n\\n')"
   ]
  }
 ],
 "metadata": {
  "kernelspec": {
   "display_name": "Python 3",
   "language": "python",
   "name": "python3"
  },
  "language_info": {
   "codemirror_mode": {
    "name": "ipython",
    "version": 3
   },
   "file_extension": ".py",
   "mimetype": "text/x-python",
   "name": "python",
   "nbconvert_exporter": "python",
   "pygments_lexer": "ipython3",
   "version": "3.11.5"
  }
 },
 "nbformat": 4,
 "nbformat_minor": 2
}
