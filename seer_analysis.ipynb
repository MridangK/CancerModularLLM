{
 "cells": [
  {
   "cell_type": "code",
   "execution_count": 1,
   "metadata": {},
   "outputs": [],
   "source": [
    "import pandas as pd"
   ]
  },
  {
   "cell_type": "code",
   "execution_count": 2,
   "metadata": {},
   "outputs": [],
   "source": [
    "df = pd.read_excel(\"Seer_All.xlsx\")"
   ]
  },
  {
   "cell_type": "code",
   "execution_count": 3,
   "metadata": {},
   "outputs": [],
   "source": [
    "# Specify the columns you want to check for missing values\n",
    "cols_to_check = ['Patient ID', 'Age recode with single ages and 85+',\n",
    "                 'Site recode ICD-O-3/WHO 2008', 'CS version input original (2004-2015)',\n",
    "                 'RX Summ--Surg Prim Site (1998+)', 'Year of diagnosis',\n",
    "                 'ICD-O-3 Hist/behav', 'CS extension (2004-2015)',\n",
    "                 'First malignant primary indicator', 'Grade (thru 2017)',\n",
    "                 'CS version input current (2004-2015)', 'Primary Site', 'Laterality',\n",
    "                 'Survival months', 'Sex', 'Race/ethnicity',\n",
    "                 'Median household income inflation adj to 2019']"
   ]
  },
  {
   "cell_type": "code",
   "execution_count": 4,
   "metadata": {},
   "outputs": [],
   "source": [
    "df_analysis = df.copy()\n"
   ]
  },
  {
   "cell_type": "code",
   "execution_count": 5,
   "metadata": {},
   "outputs": [],
   "source": [
    "df_analysis[cols_to_check] = df[cols_to_check].replace(['blank', 'Blank(s)','Unknown'], pd.NA)"
   ]
  },
  {
   "cell_type": "code",
   "execution_count": 6,
   "metadata": {},
   "outputs": [
    {
     "name": "stdout",
     "output_type": "stream",
     "text": [
      "Missing values in each column:\n",
      "Patient ID                                            0\n",
      "Age recode with single ages and 85+                   0\n",
      "Site recode ICD-O-3/WHO 2008                          0\n",
      "CS version input original (2004-2015)            789489\n",
      "RX Summ--Surg Prim Site (1998+)                  601526\n",
      "Year of diagnosis                                     0\n",
      "ICD-O-3 Hist/behav                                    0\n",
      "CS extension (2004-2015)                         789489\n",
      "First malignant primary indicator                     0\n",
      "Grade (thru 2017)                                463888\n",
      "CS version input current (2004-2015)             789489\n",
      "Primary Site                                          0\n",
      "Laterality                                            0\n",
      "Survival months                                   16449\n",
      "Sex                                                   0\n",
      "Race/ethnicity                                     6828\n",
      "Median household income inflation adj to 2019         0\n",
      "dtype: int64\n"
     ]
    }
   ],
   "source": [
    "# Check for missing values in the specified columns\n",
    "missing_values = df_analysis[cols_to_check].isnull().sum()\n",
    "\n",
    "print(\"Missing values in each column:\")\n",
    "print(missing_values)"
   ]
  },
  {
   "cell_type": "code",
   "execution_count": 7,
   "metadata": {},
   "outputs": [
    {
     "name": "stdout",
     "output_type": "stream",
     "text": [
      "Missing values in each column:\n",
      "Patient ID                                       0\n",
      "Age recode with single ages and 85+              0\n",
      "Site recode ICD-O-3/WHO 2008                     0\n",
      "CS version input original (2004-2015)            0\n",
      "RX Summ--Surg Prim Site (1998+)                  0\n",
      "Year of diagnosis                                0\n",
      "ICD-O-3 Hist/behav                               0\n",
      "CS extension (2004-2015)                         0\n",
      "First malignant primary indicator                0\n",
      "Grade (thru 2017)                                0\n",
      "CS version input current (2004-2015)             0\n",
      "Primary Site                                     0\n",
      "Laterality                                       0\n",
      "Survival months                                  0\n",
      "Sex                                              0\n",
      "Race/ethnicity                                   0\n",
      "Median household income inflation adj to 2019    0\n",
      "dtype: int64\n"
     ]
    }
   ],
   "source": [
    "\n",
    "# Check for missing values in the specified columns\n",
    "missing_values = df[cols_to_check].isnull().sum()\n",
    "\n",
    "print(\"Missing values in each column:\")\n",
    "print(missing_values)"
   ]
  },
  {
   "cell_type": "code",
   "execution_count": 8,
   "metadata": {},
   "outputs": [],
   "source": [
    "df_original = df_analysis.copy()\n",
    "\n",
    "cols_to_check = ['Patient ID', 'Age recode with single ages and 85+',\n",
    "                 'Site recode ICD-O-3/WHO 2008', 'CS version input original (2004-2015)',\n",
    "                 'RX Summ--Surg Prim Site (1998+)', 'Year of diagnosis',\n",
    "                 'ICD-O-3 Hist/behav', 'CS extension (2004-2015)',\n",
    "                 'First malignant primary indicator', 'Grade (thru 2017)',\n",
    "                 'CS version input current (2004-2015)', 'Primary Site', 'Laterality',\n",
    "                 'Survival months', 'Sex', 'Race/ethnicity',\n",
    "                 'Median household income inflation adj to 2019']\n",
    "\n",
    "df_cleaned = df_analysis.dropna(subset=cols_to_check)\n",
    "\n",
    "result = df_cleaned.groupby('Site recode ICD-O-3/WHO 2008').size() / df_original.groupby('Site recode ICD-O-3/WHO 2008').size() * 100\n",
    "\n",
    "result_df = pd.DataFrame({'Percentage Remaining': result})\n",
    "\n",
    "result_df.to_csv('result.txt', sep='\\t')\n",
    "\n"
   ]
  },
  {
   "cell_type": "code",
   "execution_count": 9,
   "metadata": {},
   "outputs": [
    {
     "name": "stdout",
     "output_type": "stream",
     "text": [
      "Data saved to output.txt\n"
     ]
    }
   ],
   "source": [
    "import json\n",
    "\n",
    "list_template_rows = []\n",
    "for index, row in df_cleaned.iterrows():\n",
    "    row_dict = {col: row[col] for col in cols_to_check}\n",
    "    list_template_rows.append(row_dict)\n",
    "\n",
    "json_file = 'output.json'\n",
    "text_file = 'output.txt'\n",
    "\n",
    "with open(json_file, 'w') as f:\n",
    "    json.dump(list_template_rows, f, indent=2)\n",
    "\n",
    "text_template_rows = \"\\n\".join([\", \".join([f\"{col.lower()} is {row[col]}\" for col in cols_to_check]) for index, row in df.iterrows()])\n",
    "\n",
    "with open('output.txt', 'w') as f:\n",
    "    f.write(text_template_rows)\n",
    "\n",
    "print(\"Data saved to output.txt\")"
   ]
  }
 ],
 "metadata": {
  "kernelspec": {
   "display_name": "Python 3",
   "language": "python",
   "name": "python3"
  },
  "language_info": {
   "codemirror_mode": {
    "name": "ipython",
    "version": 3
   },
   "file_extension": ".py",
   "mimetype": "text/x-python",
   "name": "python",
   "nbconvert_exporter": "python",
   "pygments_lexer": "ipython3",
   "version": "3.11.5"
  }
 },
 "nbformat": 4,
 "nbformat_minor": 2
}
